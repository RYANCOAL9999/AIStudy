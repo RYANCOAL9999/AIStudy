{
  "nbformat": 4,
  "nbformat_minor": 0,
  "metadata": {
    "colab": {
      "name": "Building a Prediction Model in Python.ipynb",
      "provenance": [],
      "authorship_tag": "ABX9TyP2HEc7/3QNaElc01v5vejn"
    },
    "kernelspec": {
      "name": "python3",
      "display_name": "Python 3"
    }
  },
  "cells": [
    {
      "cell_type": "code",
      "metadata": {
        "id": "xn7Ztg637F4c"
      },
      "source": [
        "import pandas as pd\n",
        "import numpy as np\n",
        "\n",
        "import matplotlib.pyplot as plt\n",
        "%matplotlib inline\n",
        "from matplotlib.pylab import rcParams\n",
        "rcParams['figure.figsize']=20,10\n",
        "\n",
        "from keras.models import Sequential\n",
        "from keras.layers import LSTM,Dropout,Dense\n",
        "\n",
        "from sklearn.preprocessing import MinMaxScaler"
      ],
      "execution_count": 4,
      "outputs": []
    },
    {
      "cell_type": "code",
      "metadata": {
        "id": "WyzBope-7LFV"
      },
      "source": [
        "df = pd.read_csv('https://raw.githubusercontent.com/Branden-Kang/Building-a-Stock-Prediction-Model-in-Python/main/data/aapl_stock.csv')"
      ],
      "execution_count": 75,
      "outputs": []
    },
    {
      "cell_type": "code",
      "metadata": {
        "id": "JXd6hISi7c51",
        "outputId": "2e32376d-54de-42c1-8549-3dddc706e67f",
        "colab": {
          "base_uri": "https://localhost:8080/",
          "height": 204
        }
      },
      "source": [
        "df.head()"
      ],
      "execution_count": 76,
      "outputs": [
        {
          "output_type": "execute_result",
          "data": {
            "text/html": [
              "<div>\n",
              "<style scoped>\n",
              "    .dataframe tbody tr th:only-of-type {\n",
              "        vertical-align: middle;\n",
              "    }\n",
              "\n",
              "    .dataframe tbody tr th {\n",
              "        vertical-align: top;\n",
              "    }\n",
              "\n",
              "    .dataframe thead th {\n",
              "        text-align: right;\n",
              "    }\n",
              "</style>\n",
              "<table border=\"1\" class=\"dataframe\">\n",
              "  <thead>\n",
              "    <tr style=\"text-align: right;\">\n",
              "      <th></th>\n",
              "      <th>Date</th>\n",
              "      <th>Close/Last</th>\n",
              "      <th>Volume</th>\n",
              "      <th>Open</th>\n",
              "      <th>High</th>\n",
              "      <th>Low</th>\n",
              "    </tr>\n",
              "  </thead>\n",
              "  <tbody>\n",
              "    <tr>\n",
              "      <th>0</th>\n",
              "      <td>11/13/2020</td>\n",
              "      <td>$119.26</td>\n",
              "      <td>81688590</td>\n",
              "      <td>$119.44</td>\n",
              "      <td>$119.6717</td>\n",
              "      <td>$117.87</td>\n",
              "    </tr>\n",
              "    <tr>\n",
              "      <th>1</th>\n",
              "      <td>11/12/2020</td>\n",
              "      <td>$119.21</td>\n",
              "      <td>103350700</td>\n",
              "      <td>$119.62</td>\n",
              "      <td>$120.53</td>\n",
              "      <td>$118.57</td>\n",
              "    </tr>\n",
              "    <tr>\n",
              "      <th>2</th>\n",
              "      <td>11/11/2020</td>\n",
              "      <td>$119.49</td>\n",
              "      <td>112295000</td>\n",
              "      <td>$117.19</td>\n",
              "      <td>$119.63</td>\n",
              "      <td>$116.44</td>\n",
              "    </tr>\n",
              "    <tr>\n",
              "      <th>3</th>\n",
              "      <td>11/10/2020</td>\n",
              "      <td>$115.97</td>\n",
              "      <td>138023400</td>\n",
              "      <td>$115.55</td>\n",
              "      <td>$117.59</td>\n",
              "      <td>$114.13</td>\n",
              "    </tr>\n",
              "    <tr>\n",
              "      <th>4</th>\n",
              "      <td>11/09/2020</td>\n",
              "      <td>$116.32</td>\n",
              "      <td>154515300</td>\n",
              "      <td>$120.5</td>\n",
              "      <td>$121.99</td>\n",
              "      <td>$116.05</td>\n",
              "    </tr>\n",
              "  </tbody>\n",
              "</table>\n",
              "</div>"
            ],
            "text/plain": [
              "         Date  Close/Last     Volume      Open        High       Low\n",
              "0  11/13/2020     $119.26   81688590   $119.44   $119.6717   $117.87\n",
              "1  11/12/2020     $119.21  103350700   $119.62     $120.53   $118.57\n",
              "2  11/11/2020     $119.49  112295000   $117.19     $119.63   $116.44\n",
              "3  11/10/2020     $115.97  138023400   $115.55     $117.59   $114.13\n",
              "4  11/09/2020     $116.32  154515300    $120.5     $121.99   $116.05"
            ]
          },
          "metadata": {
            "tags": []
          },
          "execution_count": 76
        }
      ]
    },
    {
      "cell_type": "code",
      "metadata": {
        "id": "hKWOxpdG7ds2",
        "outputId": "c8ce86cb-b616-4612-e060-47b86c098682",
        "colab": {
          "base_uri": "https://localhost:8080/",
          "height": 266
        }
      },
      "source": [
        "df.tail(7)"
      ],
      "execution_count": 77,
      "outputs": [
        {
          "output_type": "execute_result",
          "data": {
            "text/html": [
              "<div>\n",
              "<style scoped>\n",
              "    .dataframe tbody tr th:only-of-type {\n",
              "        vertical-align: middle;\n",
              "    }\n",
              "\n",
              "    .dataframe tbody tr th {\n",
              "        vertical-align: top;\n",
              "    }\n",
              "\n",
              "    .dataframe thead th {\n",
              "        text-align: right;\n",
              "    }\n",
              "</style>\n",
              "<table border=\"1\" class=\"dataframe\">\n",
              "  <thead>\n",
              "    <tr style=\"text-align: right;\">\n",
              "      <th></th>\n",
              "      <th>Date</th>\n",
              "      <th>Close/Last</th>\n",
              "      <th>Volume</th>\n",
              "      <th>Open</th>\n",
              "      <th>High</th>\n",
              "      <th>Low</th>\n",
              "    </tr>\n",
              "  </thead>\n",
              "  <tbody>\n",
              "    <tr>\n",
              "      <th>246</th>\n",
              "      <td>11/22/2019</td>\n",
              "      <td>$65.445</td>\n",
              "      <td>65325040</td>\n",
              "      <td>$65.6475</td>\n",
              "      <td>$65.795</td>\n",
              "      <td>$65.21</td>\n",
              "    </tr>\n",
              "    <tr>\n",
              "      <th>247</th>\n",
              "      <td>11/21/2019</td>\n",
              "      <td>$65.5025</td>\n",
              "      <td>121395120</td>\n",
              "      <td>$65.9225</td>\n",
              "      <td>$66.0012</td>\n",
              "      <td>$65.295</td>\n",
              "    </tr>\n",
              "    <tr>\n",
              "      <th>248</th>\n",
              "      <td>11/20/2019</td>\n",
              "      <td>$65.7975</td>\n",
              "      <td>106439680</td>\n",
              "      <td>$66.385</td>\n",
              "      <td>$66.5208</td>\n",
              "      <td>$65.1</td>\n",
              "    </tr>\n",
              "    <tr>\n",
              "      <th>249</th>\n",
              "      <td>11/19/2019</td>\n",
              "      <td>$66.5725</td>\n",
              "      <td>76278400</td>\n",
              "      <td>$66.975</td>\n",
              "      <td>$67</td>\n",
              "      <td>$66.3482</td>\n",
              "    </tr>\n",
              "    <tr>\n",
              "      <th>250</th>\n",
              "      <td>11/18/2019</td>\n",
              "      <td>$66.775</td>\n",
              "      <td>86803600</td>\n",
              "      <td>$66.45</td>\n",
              "      <td>$66.8575</td>\n",
              "      <td>$66.0575</td>\n",
              "    </tr>\n",
              "    <tr>\n",
              "      <th>251</th>\n",
              "      <td>11/15/2019</td>\n",
              "      <td>$66.44</td>\n",
              "      <td>100374680</td>\n",
              "      <td>$65.92</td>\n",
              "      <td>$66.445</td>\n",
              "      <td>$65.7525</td>\n",
              "    </tr>\n",
              "    <tr>\n",
              "      <th>252</th>\n",
              "      <td>11/14/2019</td>\n",
              "      <td>$65.66</td>\n",
              "      <td>89582240</td>\n",
              "      <td>$65.9375</td>\n",
              "      <td>$66.22</td>\n",
              "      <td>$65.525</td>\n",
              "    </tr>\n",
              "  </tbody>\n",
              "</table>\n",
              "</div>"
            ],
            "text/plain": [
              "           Date  Close/Last     Volume       Open       High        Low\n",
              "246  11/22/2019     $65.445   65325040   $65.6475    $65.795     $65.21\n",
              "247  11/21/2019    $65.5025  121395120   $65.9225   $66.0012    $65.295\n",
              "248  11/20/2019    $65.7975  106439680    $66.385   $66.5208      $65.1\n",
              "249  11/19/2019    $66.5725   76278400    $66.975        $67   $66.3482\n",
              "250  11/18/2019     $66.775   86803600     $66.45   $66.8575   $66.0575\n",
              "251  11/15/2019      $66.44  100374680     $65.92    $66.445   $65.7525\n",
              "252  11/14/2019      $65.66   89582240   $65.9375     $66.22    $65.525"
            ]
          },
          "metadata": {
            "tags": []
          },
          "execution_count": 77
        }
      ]
    },
    {
      "cell_type": "markdown",
      "metadata": {
        "id": "NAp6Ybrn8k88"
      },
      "source": [
        "# Feature Engineering"
      ]
    },
    {
      "cell_type": "code",
      "metadata": {
        "id": "8570rXLP7lTD"
      },
      "source": [
        "df.rename(columns={' Close/Last':'Close'},inplace=True)"
      ],
      "execution_count": 78,
      "outputs": []
    },
    {
      "cell_type": "code",
      "metadata": {
        "id": "j95ZKvKS71MG",
        "outputId": "d0295479-c8a1-428e-c77b-601c73403cb1",
        "colab": {
          "base_uri": "https://localhost:8080/",
          "height": 204
        }
      },
      "source": [
        "df.head()"
      ],
      "execution_count": 79,
      "outputs": [
        {
          "output_type": "execute_result",
          "data": {
            "text/html": [
              "<div>\n",
              "<style scoped>\n",
              "    .dataframe tbody tr th:only-of-type {\n",
              "        vertical-align: middle;\n",
              "    }\n",
              "\n",
              "    .dataframe tbody tr th {\n",
              "        vertical-align: top;\n",
              "    }\n",
              "\n",
              "    .dataframe thead th {\n",
              "        text-align: right;\n",
              "    }\n",
              "</style>\n",
              "<table border=\"1\" class=\"dataframe\">\n",
              "  <thead>\n",
              "    <tr style=\"text-align: right;\">\n",
              "      <th></th>\n",
              "      <th>Date</th>\n",
              "      <th>Close</th>\n",
              "      <th>Volume</th>\n",
              "      <th>Open</th>\n",
              "      <th>High</th>\n",
              "      <th>Low</th>\n",
              "    </tr>\n",
              "  </thead>\n",
              "  <tbody>\n",
              "    <tr>\n",
              "      <th>0</th>\n",
              "      <td>11/13/2020</td>\n",
              "      <td>$119.26</td>\n",
              "      <td>81688590</td>\n",
              "      <td>$119.44</td>\n",
              "      <td>$119.6717</td>\n",
              "      <td>$117.87</td>\n",
              "    </tr>\n",
              "    <tr>\n",
              "      <th>1</th>\n",
              "      <td>11/12/2020</td>\n",
              "      <td>$119.21</td>\n",
              "      <td>103350700</td>\n",
              "      <td>$119.62</td>\n",
              "      <td>$120.53</td>\n",
              "      <td>$118.57</td>\n",
              "    </tr>\n",
              "    <tr>\n",
              "      <th>2</th>\n",
              "      <td>11/11/2020</td>\n",
              "      <td>$119.49</td>\n",
              "      <td>112295000</td>\n",
              "      <td>$117.19</td>\n",
              "      <td>$119.63</td>\n",
              "      <td>$116.44</td>\n",
              "    </tr>\n",
              "    <tr>\n",
              "      <th>3</th>\n",
              "      <td>11/10/2020</td>\n",
              "      <td>$115.97</td>\n",
              "      <td>138023400</td>\n",
              "      <td>$115.55</td>\n",
              "      <td>$117.59</td>\n",
              "      <td>$114.13</td>\n",
              "    </tr>\n",
              "    <tr>\n",
              "      <th>4</th>\n",
              "      <td>11/09/2020</td>\n",
              "      <td>$116.32</td>\n",
              "      <td>154515300</td>\n",
              "      <td>$120.5</td>\n",
              "      <td>$121.99</td>\n",
              "      <td>$116.05</td>\n",
              "    </tr>\n",
              "  </tbody>\n",
              "</table>\n",
              "</div>"
            ],
            "text/plain": [
              "         Date     Close     Volume      Open        High       Low\n",
              "0  11/13/2020   $119.26   81688590   $119.44   $119.6717   $117.87\n",
              "1  11/12/2020   $119.21  103350700   $119.62     $120.53   $118.57\n",
              "2  11/11/2020   $119.49  112295000   $117.19     $119.63   $116.44\n",
              "3  11/10/2020   $115.97  138023400   $115.55     $117.59   $114.13\n",
              "4  11/09/2020   $116.32  154515300    $120.5     $121.99   $116.05"
            ]
          },
          "metadata": {
            "tags": []
          },
          "execution_count": 79
        }
      ]
    },
    {
      "cell_type": "code",
      "metadata": {
        "id": "oHlS8Flk7e3I",
        "outputId": "307fc5d0-2b31-49be-8f44-c0f0dd3c902f",
        "colab": {
          "base_uri": "https://localhost:8080/",
          "height": 204
        }
      },
      "source": [
        "df = df[['Date', 'Close']]\n",
        "df.head()"
      ],
      "execution_count": 80,
      "outputs": [
        {
          "output_type": "execute_result",
          "data": {
            "text/html": [
              "<div>\n",
              "<style scoped>\n",
              "    .dataframe tbody tr th:only-of-type {\n",
              "        vertical-align: middle;\n",
              "    }\n",
              "\n",
              "    .dataframe tbody tr th {\n",
              "        vertical-align: top;\n",
              "    }\n",
              "\n",
              "    .dataframe thead th {\n",
              "        text-align: right;\n",
              "    }\n",
              "</style>\n",
              "<table border=\"1\" class=\"dataframe\">\n",
              "  <thead>\n",
              "    <tr style=\"text-align: right;\">\n",
              "      <th></th>\n",
              "      <th>Date</th>\n",
              "      <th>Close</th>\n",
              "    </tr>\n",
              "  </thead>\n",
              "  <tbody>\n",
              "    <tr>\n",
              "      <th>0</th>\n",
              "      <td>11/13/2020</td>\n",
              "      <td>$119.26</td>\n",
              "    </tr>\n",
              "    <tr>\n",
              "      <th>1</th>\n",
              "      <td>11/12/2020</td>\n",
              "      <td>$119.21</td>\n",
              "    </tr>\n",
              "    <tr>\n",
              "      <th>2</th>\n",
              "      <td>11/11/2020</td>\n",
              "      <td>$119.49</td>\n",
              "    </tr>\n",
              "    <tr>\n",
              "      <th>3</th>\n",
              "      <td>11/10/2020</td>\n",
              "      <td>$115.97</td>\n",
              "    </tr>\n",
              "    <tr>\n",
              "      <th>4</th>\n",
              "      <td>11/09/2020</td>\n",
              "      <td>$116.32</td>\n",
              "    </tr>\n",
              "  </tbody>\n",
              "</table>\n",
              "</div>"
            ],
            "text/plain": [
              "         Date     Close\n",
              "0  11/13/2020   $119.26\n",
              "1  11/12/2020   $119.21\n",
              "2  11/11/2020   $119.49\n",
              "3  11/10/2020   $115.97\n",
              "4  11/09/2020   $116.32"
            ]
          },
          "metadata": {
            "tags": []
          },
          "execution_count": 80
        }
      ]
    },
    {
      "cell_type": "code",
      "metadata": {
        "id": "ur1tOHXJ7h4R",
        "outputId": "a5c8667a-33d1-4c8d-db05-fee684e5f963",
        "colab": {
          "base_uri": "https://localhost:8080/"
        }
      },
      "source": [
        "df.dtypes"
      ],
      "execution_count": 81,
      "outputs": [
        {
          "output_type": "execute_result",
          "data": {
            "text/plain": [
              "Date     object\n",
              "Close    object\n",
              "dtype: object"
            ]
          },
          "metadata": {
            "tags": []
          },
          "execution_count": 81
        }
      ]
    },
    {
      "cell_type": "code",
      "metadata": {
        "id": "6YEemIPKDNKX"
      },
      "source": [
        "df = df.replace({'\\$':''}, regex = True)"
      ],
      "execution_count": 82,
      "outputs": []
    },
    {
      "cell_type": "code",
      "metadata": {
        "id": "T2DoG6__DRvX",
        "outputId": "89024261-286f-4e06-fdfc-7ffc8511ec9f",
        "colab": {
          "base_uri": "https://localhost:8080/"
        }
      },
      "source": [
        "df = df.astype({\"Close\": float})\n",
        "\n",
        "df[\"Date\"] = pd.to_datetime(df.Date, format=\"%m/%d/%Y\")\n",
        "\n",
        "df.dtypes"
      ],
      "execution_count": 83,
      "outputs": [
        {
          "output_type": "execute_result",
          "data": {
            "text/plain": [
              "Date     datetime64[ns]\n",
              "Close           float64\n",
              "dtype: object"
            ]
          },
          "metadata": {
            "tags": []
          },
          "execution_count": 83
        }
      ]
    },
    {
      "cell_type": "code",
      "metadata": {
        "id": "71kA0QTTDQq7"
      },
      "source": [
        "df.index = df['Date']"
      ],
      "execution_count": 84,
      "outputs": []
    },
    {
      "cell_type": "markdown",
      "metadata": {
        "id": "A6v8HF_1DcBu"
      },
      "source": [
        "# Explorary Data Analysis"
      ]
    },
    {
      "cell_type": "code",
      "metadata": {
        "id": "E0ms_Zq_DbcG",
        "outputId": "17142781-d54c-42a4-d350-3788db8578fa",
        "colab": {
          "base_uri": "https://localhost:8080/",
          "height": 282
        }
      },
      "source": [
        "plt.plot(df[\"Close\"],label='Close Price history')"
      ],
      "execution_count": 85,
      "outputs": [
        {
          "output_type": "execute_result",
          "data": {
            "text/plain": [
              "[<matplotlib.lines.Line2D at 0x7f2770d3e2b0>]"
            ]
          },
          "metadata": {
            "tags": []
          },
          "execution_count": 85
        },
        {
          "output_type": "display_data",
          "data": {
            "image/png": "[encoded data removed]",
            "text/plain": [
              "<Figure size 432x288 with 1 Axes>"
            ]
          },
          "metadata": {
            "tags": [],
            "needs_background": "light"
          }
        }
      ]
    },
    {
      "cell_type": "markdown",
      "metadata": {
        "id": "pvFbttPuDigS"
      },
      "source": [
        "# LSTM Prediction Model"
      ]
    },
    {
      "cell_type": "code",
      "metadata": {
        "id": "Cxqk-jH7Df2o"
      },
      "source": [
        "df = df.sort_index(ascending=True,axis=0)"
      ],
      "execution_count": 86,
      "outputs": []
    },
    {
      "cell_type": "code",
      "metadata": {
        "id": "kp-rZEHbDlgD"
      },
      "source": [
        "data = pd.DataFrame(index=range(0,len(df)),columns=['Date','Close'])"
      ],
      "execution_count": 87,
      "outputs": []
    },
    {
      "cell_type": "code",
      "metadata": {
        "id": "torVQrjYDn6D",
        "outputId": "ba9c99dc-3822-4f12-f176-5fc7c5e56c7f",
        "colab": {
          "base_uri": "https://localhost:8080/",
          "height": 204
        }
      },
      "source": [
        "for i in range(0,len(data)):\n",
        "    data[\"Date\"][i]=df['Date'][i]\n",
        "    data[\"Close\"][i]=df[\"Close\"][i]\n",
        "    \n",
        "data.head()"
      ],
      "execution_count": 88,
      "outputs": [
        {
          "output_type": "execute_result",
          "data": {
            "text/html": [
              "<div>\n",
              "<style scoped>\n",
              "    .dataframe tbody tr th:only-of-type {\n",
              "        vertical-align: middle;\n",
              "    }\n",
              "\n",
              "    .dataframe tbody tr th {\n",
              "        vertical-align: top;\n",
              "    }\n",
              "\n",
              "    .dataframe thead th {\n",
              "        text-align: right;\n",
              "    }\n",
              "</style>\n",
              "<table border=\"1\" class=\"dataframe\">\n",
              "  <thead>\n",
              "    <tr style=\"text-align: right;\">\n",
              "      <th></th>\n",
              "      <th>Date</th>\n",
              "      <th>Close</th>\n",
              "    </tr>\n",
              "  </thead>\n",
              "  <tbody>\n",
              "    <tr>\n",
              "      <th>0</th>\n",
              "      <td>2019-11-14 00:00:00</td>\n",
              "      <td>65.66</td>\n",
              "    </tr>\n",
              "    <tr>\n",
              "      <th>1</th>\n",
              "      <td>2019-11-15 00:00:00</td>\n",
              "      <td>66.44</td>\n",
              "    </tr>\n",
              "    <tr>\n",
              "      <th>2</th>\n",
              "      <td>2019-11-18 00:00:00</td>\n",
              "      <td>66.775</td>\n",
              "    </tr>\n",
              "    <tr>\n",
              "      <th>3</th>\n",
              "      <td>2019-11-19 00:00:00</td>\n",
              "      <td>66.5725</td>\n",
              "    </tr>\n",
              "    <tr>\n",
              "      <th>4</th>\n",
              "      <td>2019-11-20 00:00:00</td>\n",
              "      <td>65.7975</td>\n",
              "    </tr>\n",
              "  </tbody>\n",
              "</table>\n",
              "</div>"
            ],
            "text/plain": [
              "                  Date    Close\n",
              "0  2019-11-14 00:00:00    65.66\n",
              "1  2019-11-15 00:00:00    66.44\n",
              "2  2019-11-18 00:00:00   66.775\n",
              "3  2019-11-19 00:00:00  66.5725\n",
              "4  2019-11-20 00:00:00  65.7975"
            ]
          },
          "metadata": {
            "tags": []
          },
          "execution_count": 88
        }
      ]
    },
    {
      "cell_type": "markdown",
      "metadata": {
        "id": "M5DWiF27Dv-s"
      },
      "source": [
        "## Min-Max Scaler"
      ]
    },
    {
      "cell_type": "code",
      "metadata": {
        "id": "-R4se1xqDsBD"
      },
      "source": [
        "scaler=MinMaxScaler(feature_range=(0,1))\n",
        "\n",
        "data.index=data.Date\n",
        "data.drop('Date',axis=1,inplace=True)\n",
        "\n",
        "final_data = data.values\n",
        "train_data=final_data[0:200,:]\n",
        "valid_data=final_data[200:,:]\n",
        "\n",
        "scaler=MinMaxScaler(feature_range=(0,1))\n",
        "scaled_data=scaler.fit_transform(final_data)\n",
        "\n",
        "x_train_data,y_train_data=[],[]\n",
        "for i in range(60,len(train_data)):\n",
        "    x_train_data.append(scaled_data[i-60:i,0])\n",
        "    y_train_data.append(scaled_data[i,0])"
      ],
      "execution_count": 89,
      "outputs": []
    },
    {
      "cell_type": "markdown",
      "metadata": {
        "id": "bEEiUPCFD2Ah"
      },
      "source": [
        "## LSTM Model"
      ]
    },
    {
      "cell_type": "code",
      "metadata": {
        "id": "0EH5zHmYD1Gc"
      },
      "source": [
        "lstm_model=Sequential()\n",
        "lstm_model.add(LSTM(units=60,return_sequences=True,input_shape=(np.shape(x_train_data)[1],1)))\n",
        "lstm_model.add(LSTM(units=60))\n",
        "lstm_model.add(Dense(1))\n",
        "\n",
        "model_data=data[len(data)-len(valid_data)-60:].values\n",
        "model_data=model_data.reshape(-1,1)\n",
        "model_data=scaler.transform(model_data)"
      ],
      "execution_count": 103,
      "outputs": []
    },
    {
      "cell_type": "markdown",
      "metadata": {
        "id": "BvT8HMmXD789"
      },
      "source": [
        "## Train and Test Data"
      ]
    },
    {
      "cell_type": "code",
      "metadata": {
        "id": "wuA5d00vEUYP"
      },
      "source": [
        "x_train_data = np.asarray(x_train_data)\n",
        "y_train_data = np.asarray(y_train_data)"
      ],
      "execution_count": 104,
      "outputs": []
    },
    {
      "cell_type": "code",
      "metadata": {
        "id": "JvmK-lABF8L0"
      },
      "source": [
        "x_train_data = np.reshape(x_train_data, (x_train_data.shape[0], 60, 1))"
      ],
      "execution_count": 105,
      "outputs": []
    },
    {
      "cell_type": "code",
      "metadata": {
        "id": "XpYgViEyD64c",
        "outputId": "0318fbae-c5bb-4bbd-db08-60dedd9466e6",
        "colab": {
          "base_uri": "https://localhost:8080/"
        }
      },
      "source": [
        "lstm_model.compile(loss='mean_squared_error',optimizer='adam')\n",
        "lstm_model.fit(x_train_data,y_train_data,epochs=1,batch_size=1,verbose=2)\n",
        "\n",
        "X_test=[]\n",
        "for i in range(60,model_data.shape[0]):\n",
        "    X_test.append(model_data[i-60:i,0])\n",
        "X_test=np.array(X_test)\n",
        "X_test=np.reshape(X_test,(X_test.shape[0],X_test.shape[1],1))"
      ],
      "execution_count": 106,
      "outputs": [
        {
          "output_type": "stream",
          "text": [
            "140/140 - 3s - loss: 0.0104\n"
          ],
          "name": "stdout"
        }
      ]
    },
    {
      "cell_type": "code",
      "metadata": {
        "id": "V_e72grTEAF2"
      },
      "source": [
        "predicted_stock_price=lstm_model.predict(X_test)\n",
        "predicted_stock_price=scaler.inverse_transform(predicted_stock_price)"
      ],
      "execution_count": 107,
      "outputs": []
    },
    {
      "cell_type": "code",
      "metadata": {
        "id": "A7mz-7hfFOMT",
        "outputId": "e666c4eb-08e6-48cd-fa41-dd657514a8af",
        "colab": {
          "base_uri": "https://localhost:8080/",
          "height": 421
        }
      },
      "source": [
        "train_data=data[:200]\n",
        "valid_data=data[200:]\n",
        "valid_data['Predictions']=predicted_stock_price\n",
        "plt.plot(train_data[\"Close\"])\n",
        "plt.plot(valid_data[['Close',\"Predictions\"]])"
      ],
      "execution_count": 108,
      "outputs": [
        {
          "output_type": "stream",
          "text": [
            "/usr/local/lib/python3.6/dist-packages/ipykernel_launcher.py:3: SettingWithCopyWarning: \n",
            "A value is trying to be set on a copy of a slice from a DataFrame.\n",
            "Try using .loc[row_indexer,col_indexer] = value instead\n",
            "\n",
            "See the caveats in the documentation: https://pandas.pydata.org/pandas-docs/stable/user_guide/indexing.html#returning-a-view-versus-a-copy\n",
            "  This is separate from the ipykernel package so we can avoid doing imports until\n"
          ],
          "name": "stderr"
        },
        {
          "output_type": "execute_result",
          "data": {
            "text/plain": [
              "[<matplotlib.lines.Line2D at 0x7f27709dc860>,\n",
              " <matplotlib.lines.Line2D at 0x7f27709dcc50>]"
            ]
          },
          "metadata": {
            "tags": []
          },
          "execution_count": 108
        },
        {
          "output_type": "display_data",
          "data": {
            "image/png": "[encoded data removed]",
            "text/plain": [
              "<Figure size 432x288 with 1 Axes>"
            ]
          },
          "metadata": {
            "tags": [],
            "needs_background": "light"
          }
        }
      ]
    }
  ]
}