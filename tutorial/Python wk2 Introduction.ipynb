{
 "cells": [
  {
   "cell_type": "markdown",
   "metadata": {},
   "source": [
    "# Python"
   ]
  },
  {
   "cell_type": "markdown",
   "metadata": {},
   "source": [
    "Python is a high level programming language used by millions of people for different purposes such as \n",
    "web development, artificial intelligence etc"
   ]
  },
  {
   "cell_type": "markdown",
   "metadata": {},
   "source": [
    " ## Why Python"
   ]
  },
  {
   "cell_type": "markdown",
   "metadata": {},
   "source": [
    "Software Quality - Very readable syntax\n",
    "Developer Productivity - Get more done in less time\n",
    "Program portability - Porting between various OSs such as Window, Mac and Linux is easy\n",
    "Support libraries - lots of prebuilt libraries and many third-party libraries\n",
    "Component integration - Python can be called from C and C++ programs, can also integrate wit Java and .Net\n",
    "Current AI paradigm - Majority of todays AI implementation are done with Python or Python at the backend. Google's Tensorflow has been the leading AI and deep learning framework for years\n",
    "\n",
    "Python is a general-purpose programming language that is often applied in scripting\n",
    "roles. It is commonly defined as an object-oriented scripting language—a definition that\n",
    "blends support for OOP with an overall orientation toward scripting roles\n",
    "\n",
    "what can I do with Python\n",
    "what are the downsides\n",
    "\n",
    "Python technical advantages\n",
    " - Object-oriented\n",
    " - Free\n",
    " - Portable\n",
    " - powerful\n"
   ]
  },
  {
   "cell_type": "markdown",
   "metadata": {},
   "source": [
    "## Where did the name come from?"
   ]
  },
  {
   "cell_type": "markdown",
   "metadata": {},
   "source": [
    "\n",
    "\n",
    "Python is named after the British comedy\n",
    "group Monty Python—makers of the 1970s BBC comedy series Monty Python’s Flying\n",
    "Circus and a handful of later full-length films, including Monty Python and the Holy\n",
    "Grail, that are still widely popular today"
   ]
  },
  {
   "cell_type": "markdown",
   "metadata": {},
   "source": [
    "Python runs via the Python intepreter\n",
    "Example ...\n",
    "\n"
   ]
  },
  {
   "cell_type": "code",
   "execution_count": 14,
   "metadata": {},
   "outputs": [
    {
     "name": "stdout",
     "output_type": "stream",
     "text": [
      "hello world\n"
     ]
    }
   ],
   "source": [
    "print('hello world')"
   ]
  },
  {
   "cell_type": "code",
   "execution_count": 5,
   "metadata": {},
   "outputs": [
    {
     "name": "stdout",
     "output_type": "stream",
     "text": [
      "today we are learning Python\n",
      "16\n"
     ]
    }
   ],
   "source": [
    "print('today we are learning Python')\n",
    "print(4**2)"
   ]
  },
  {
   "cell_type": "code",
   "execution_count": 18,
   "metadata": {},
   "outputs": [
    {
     "name": "stdout",
     "output_type": "stream",
     "text": [
      "less!\n"
     ]
    }
   ],
   "source": [
    "computer = 10\n",
    "if(computer < 11):\n",
    "    print('less!')\n",
    "else:\n",
    "    print('more')"
   ]
  },
  {
   "cell_type": "markdown",
   "metadata": {},
   "source": [
    "Python codes are saved as .py files. So you can save the above code in a file called script1.py and run it from the command line like so:<br> \n",
    "\n",
    "python script1.py"
   ]
  },
  {
   "cell_type": "markdown",
   "metadata": {},
   "source": [
    "## Byte code compilation\n",
    "\n",
    "The code is first compiled to\n",
    "something called “byte code” and then routed to something called a “virtual machine.” <br>\n",
    "Your code simply compiles into a byte code and then is moved for execution by the Python Virtual Machine.\n",
    "\n",
    "In Python 3.2 and later, Python saves its .pyc byte code files in a subdirectory named\n",
    "__pycache__ located in the directory where your source files reside, and in files whose\n",
    "names identify the Python version that created them (e.g., script.cpython-33.pyc). The\n",
    "new __pycache__ subdirectory helps to avoid clutter, and the new naming convention\n",
    "for byte code files prevents different Python versions installed on the same computer\n",
    "from overwriting each other’s saved byte code.\n",
    "\n",
    "In both models, Python saves byte code like this as a startup speed optimization. The\n",
    "next time you run your program, Python will load the .pyc files and skip the compilation\n",
    "step, as long as you haven’t changed your source code since the byte code was last\n",
    "saved, and aren’t running with a different Python than the one that created the byte\n",
    "code.\n"
   ]
  },
  {
   "cell_type": "code",
   "execution_count": 1,
   "metadata": {},
   "outputs": [
    {
     "name": "stdout",
     "output_type": "stream",
     "text": [
      "win32\n",
      "1267650600228229401496703205376\n",
      "Spam!Spam!Spam!Spam!Spam!Spam!Spam!Spam!\n"
     ]
    }
   ],
   "source": [
    "# Your first Python script\n",
    "import sys # Load the sys library\n",
    "print(sys.platform)\n",
    "print(2 ** 100) # Raise 2 to a power\n",
    "x = 'Spam!'\n",
    "print(x * 8) # repeat string\n",
    "\n",
    "# task: run this script from command line"
   ]
  },
  {
   "cell_type": "code",
   "execution_count": null,
   "metadata": {},
   "outputs": [],
   "source": [
    "python script1.py > wk2.txt"
   ]
  },
  {
   "cell_type": "markdown",
   "metadata": {},
   "source": [
    "## Python Lines and Indentation"
   ]
  },
  {
   "cell_type": "markdown",
   "metadata": {},
   "source": [
    "All statements within a python code block must be indented"
   ]
  },
  {
   "cell_type": "code",
   "execution_count": 3,
   "metadata": {},
   "outputs": [
    {
     "name": "stdout",
     "output_type": "stream",
     "text": [
      "True\n"
     ]
    }
   ],
   "source": [
    "if True:\n",
    "    print(\"True!\")\n",
    "else:\n",
    "    print(\"False\")"
   ]
  },
  {
   "cell_type": "code",
   "execution_count": 19,
   "metadata": {},
   "outputs": [
    {
     "ename": "IndentationError",
     "evalue": "expected an indented block (<ipython-input-19-9909f1859162>, line 3)",
     "output_type": "error",
     "traceback": [
      "\u001b[1;36m  File \u001b[1;32m\"<ipython-input-19-9909f1859162>\"\u001b[1;36m, line \u001b[1;32m3\u001b[0m\n\u001b[1;33m    print \"Answer\"\u001b[0m\n\u001b[1;37m        ^\u001b[0m\n\u001b[1;31mIndentationError\u001b[0m\u001b[1;31m:\u001b[0m expected an indented block\n"
     ]
    }
   ],
   "source": [
    "# why does this give error\n",
    "if True:\n",
    "print \"Answer\"\n",
    "print \"True\"\n",
    "else:\n",
    "print \"Answer\"\n",
    "print \"False\""
   ]
  },
  {
   "cell_type": "markdown",
   "metadata": {},
   "source": [
    "Python can handle multi-line statement. Statements in Python typically end with a new line, however, we can use the continuation character (\\) to handle multiline statement. <br>\n",
    "However, statements contained within the [], {}, or () brackets do not need to use the line continuation character"
   ]
  },
  {
   "cell_type": "code",
   "execution_count": 8,
   "metadata": {},
   "outputs": [
    {
     "name": "stdout",
     "output_type": "stream",
     "text": [
      "item_oneitem_twoitem_three\n"
     ]
    }
   ],
   "source": [
    "total = \"item_one\" + \\\n",
    "        \"item_two\" + \\\n",
    "        \"item_three\"\n",
    "\n",
    "print(total)"
   ]
  },
  {
   "cell_type": "markdown",
   "metadata": {},
   "source": [
    "## Comments in Python"
   ]
  },
  {
   "cell_type": "code",
   "execution_count": 1,
   "metadata": {},
   "outputs": [
    {
     "name": "stdout",
     "output_type": "stream",
     "text": [
      "Hello, Coder!\n"
     ]
    }
   ],
   "source": [
    "#!/usr/bin/python\n",
    "\n",
    "#! Shabang is used locate the path to the python interpreter in your local computer\n",
    "# First comment\n",
    "print(\"Hello, Coder!\") # second comment on the same line"
   ]
  },
  {
   "cell_type": "markdown",
   "metadata": {},
   "source": [
    "## Triple quotes can also be used as a multi-line comment "
   ]
  },
  {
   "cell_type": "code",
   "execution_count": 10,
   "metadata": {},
   "outputs": [
    {
     "data": {
      "text/plain": [
       "'\\nThis here is a multiline\\ncomment. You can add\\nmany many\\nmany lines\\n'"
      ]
     },
     "execution_count": 10,
     "metadata": {},
     "output_type": "execute_result"
    }
   ],
   "source": [
    "'''\n",
    "This here is a multiline\n",
    "comment. You can add\n",
    "many many\n",
    "many lines\n",
    "'''"
   ]
  },
  {
   "cell_type": "code",
   "execution_count": 20,
   "metadata": {},
   "outputs": [
    {
     "name": "stdout",
     "output_type": "stream",
     "text": [
      "\n",
      "\n",
      " How many are we in class2\n"
     ]
    }
   ],
   "source": [
    "time1 = input(\"\\n\\n How many are we in class?...\")"
   ]
  },
  {
   "cell_type": "code",
   "execution_count": 21,
   "metadata": {},
   "outputs": [
    {
     "data": {
      "text/plain": [
       "'2'"
      ]
     },
     "execution_count": 21,
     "metadata": {},
     "output_type": "execute_result"
    }
   ],
   "source": [
    "time1"
   ]
  },
  {
   "cell_type": "code",
   "execution_count": null,
   "metadata": {},
   "outputs": [],
   "source": []
  }
 ],
 "metadata": {
  "kernelspec": {
   "display_name": "Python 3",
   "language": "python",
   "name": "python3"
  },
  "language_info": {
   "codemirror_mode": {
    "name": "ipython",
    "version": 3
   },
   "file_extension": ".py",
   "mimetype": "text/x-python",
   "name": "python",
   "nbconvert_exporter": "python",
   "pygments_lexer": "ipython3",
   "version": "3.7.4"
  }
 },
 "nbformat": 4,
 "nbformat_minor": 2
}
