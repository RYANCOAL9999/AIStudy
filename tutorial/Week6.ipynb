{
  "nbformat": 4,
  "nbformat_minor": 0,
  "metadata": {
    "colab": {
      "name": "Week8.ipynb",
      "provenance": [],
      "collapsed_sections": []
    },
    "kernelspec": {
      "name": "python3",
      "display_name": "Python 3"
    }
  },
  "cells": [
    {
      "cell_type": "markdown",
      "metadata": {
        "id": "KTcYmyChAmEX"
      },
      "source": [
        "#Classification: Logistic Regression\n",
        "Linear Regression works with numeric continuous data and therefore it is not suitable for predicting qualitative or categorical outcomes. \n",
        "To predict binary categorical outcomes, we use a particular classification technique called Logistic Regression. Since Logistic Regression predict binary outcomes, such as Pass/Fail, True/False, Yes/No, we use a Logistic Response Function.\n"
      ]
    },
    {
      "cell_type": "markdown",
      "metadata": {
        "id": "CnA8IA1pBVSW"
      },
      "source": [
        "![1.png](data:image/png;base64,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)"
      ]
    },
    {
      "cell_type": "markdown",
      "metadata": {
        "id": "Zzj3PgeIC_sH"
      },
      "source": [
        "The probabilities on the Logistic Response Function range from 0 to 1. We need to set the threshold or range values for which either 0 or 1 is predicted. For example, we can set this threshold to be 0.4 and thus for probabilities from 0 to 0.39 the value of 0 will be predicted and for probabilities from 0.4 to 1 the value of 1 will be predicted. "
      ]
    },
    {
      "cell_type": "markdown",
      "metadata": {
        "id": "iKqHtecBDHbq"
      },
      "source": [
        "P(0) and P(1) can be used to represent two different outcomes. As such:\n",
        "\n",
        "$$P(0)=1-P(1)$$\n",
        "\n",
        "$$P(y=1)=  \\frac {1}{1+ e^{-(β_0+ β_1 x_1+ β_2 x_2+⋯+ β_k x_k )}}$$\n",
        "\n",
        "$$Odds = e^{-(β_0+ β_1 x_1+ β_2 x_2+⋯+ β_k x_k )}$$\n",
        "\n",
        "$$Logit = ln(Odds) = β_0+ β_1 x_1+ β_2 x_2+⋯+ β_k x_k $$\n",
        "\n",
        "As can be seen, the formula for the Logit is similar to that for Linear Regression. \n"
      ]
    },
    {
      "cell_type": "markdown",
      "metadata": {
        "id": "OB5y0oHTFKfF"
      },
      "source": [
        "A confusion matrix can be used to assess the performance of a Logistic Regression model. \n",
        "\n",
        "<table>\n",
        "   <tr>\n",
        "      <th></th>\n",
        "      <th>Prediction = 0 </th>\n",
        "      <th>Prediction = 1 </th>\n",
        "   </tr>\n",
        "<tr>\n",
        "  <td>Actual  = 0 </td>\n",
        "  <td>True Negative </td>\n",
        "  <td>False Positive </td>\n",
        "</tr>\n",
        "<tr>\n",
        "  <td>Actual  = 1 </td>\n",
        "  <td>False Negative </td>\n",
        "  <td>True Positive </td>\n",
        "</tr>\n",
        "</table>"
      ]
    },
    {
      "cell_type": "markdown",
      "metadata": {
        "id": "eI-Ch9DxKaPT"
      },
      "source": [
        "$$Sensitivity=  \\frac{True Positive}{True Positive+False Negative}$$\n",
        "Sensitivity analysis shows the percentage of positive cases that are correctly identified. \n",
        "$$Specificity=  \\frac{True Negative}{True Negative+False Positive}$$\n",
        "\n",
        "Specificity analysis shows the percentage of negative cases that are correctly identified. \n",
        "Setting the model threshold high will result in lower sensitivity and higher specificity. Setting the model threshold low will result in higher sensitivity and lower specificity. \n"
      ]
    },
    {
      "cell_type": "markdown",
      "metadata": {
        "id": "ZtBX7tXHK-YU"
      },
      "source": [
        "#Implementing the Logisitc Regression Classifier in Python"
      ]
    },
    {
      "cell_type": "code",
      "metadata": {
        "id": "bLgYVhd1sGHi"
      },
      "source": [
        "import pandas as pd #imports the pandas library\n",
        "import numpy as np  #imports the numpy library\n"
      ],
      "execution_count": 34,
      "outputs": []
    },
    {
      "cell_type": "code",
      "metadata": {
        "colab": {
          "base_uri": "https://localhost:8080/"
        },
        "id": "KTbVxV5fs1JH",
        "outputId": "46b69803-5890-4a17-8058-6dc8c5e9c248"
      },
      "source": [
        "data = pd.read_csv(\"HP.csv\") #reads the HP dataset in Python environment\n",
        "data.info()\n"
      ],
      "execution_count": 38,
      "outputs": [
        {
          "output_type": "stream",
          "text": [
            "<class 'pandas.core.frame.DataFrame'>\n",
            "RangeIndex: 506 entries, 0 to 505\n",
            "Data columns (total 19 columns):\n",
            " #   Column       Non-Null Count  Dtype  \n",
            "---  ------       --------------  -----  \n",
            " 0   price        506 non-null    float64\n",
            " 1   resid_area   506 non-null    float64\n",
            " 2   air_qual     506 non-null    float64\n",
            " 3   room_num     506 non-null    float64\n",
            " 4   age          506 non-null    float64\n",
            " 5   dist1        506 non-null    float64\n",
            " 6   dist2        506 non-null    float64\n",
            " 7   dist3        506 non-null    float64\n",
            " 8   dist4        506 non-null    float64\n",
            " 9   teachers     506 non-null    float64\n",
            " 10  poor_prop    506 non-null    float64\n",
            " 11  airport      506 non-null    object \n",
            " 12  n_hos_beds   498 non-null    float64\n",
            " 13  n_hot_rooms  506 non-null    float64\n",
            " 14  waterbody    506 non-null    object \n",
            " 15  rainfall     506 non-null    int64  \n",
            " 16  bus_ter      506 non-null    object \n",
            " 17  parks        506 non-null    float64\n",
            " 18  Sold         506 non-null    int64  \n",
            "dtypes: float64(14), int64(2), object(3)\n",
            "memory usage: 75.2+ KB\n"
          ],
          "name": "stdout"
        }
      ]
    },
    {
      "cell_type": "markdown",
      "metadata": {
        "id": "eQUnSwryMPdP"
      },
      "source": [
        "Regression only works with numerical values. "
      ]
    },
    {
      "cell_type": "code",
      "metadata": {
        "colab": {
          "base_uri": "https://localhost:8080/",
          "height": 126
        },
        "id": "2VwoP8wILjVs",
        "outputId": "35189c6f-41d9-42e8-990a-bb3cb711695a"
      },
      "source": [
        "data = data.drop([\"airport\", \"waterbody\", \"bus_ter\", \"n_hos_beds\"], axis = 1) #deletes the three columns that contain string values and one column that contains missing values\n",
        "data.head(2)"
      ],
      "execution_count": 37,
      "outputs": [
        {
          "output_type": "execute_result",
          "data": {
            "text/html": [
              "<div>\n",
              "<style scoped>\n",
              "    .dataframe tbody tr th:only-of-type {\n",
              "        vertical-align: middle;\n",
              "    }\n",
              "\n",
              "    .dataframe tbody tr th {\n",
              "        vertical-align: top;\n",
              "    }\n",
              "\n",
              "    .dataframe thead th {\n",
              "        text-align: right;\n",
              "    }\n",
              "</style>\n",
              "<table border=\"1\" class=\"dataframe\">\n",
              "  <thead>\n",
              "    <tr style=\"text-align: right;\">\n",
              "      <th></th>\n",
              "      <th>price</th>\n",
              "      <th>resid_area</th>\n",
              "      <th>air_qual</th>\n",
              "      <th>room_num</th>\n",
              "      <th>age</th>\n",
              "      <th>dist1</th>\n",
              "      <th>dist2</th>\n",
              "      <th>dist3</th>\n",
              "      <th>dist4</th>\n",
              "      <th>teachers</th>\n",
              "      <th>poor_prop</th>\n",
              "      <th>n_hot_rooms</th>\n",
              "      <th>rainfall</th>\n",
              "      <th>parks</th>\n",
              "      <th>Sold</th>\n",
              "    </tr>\n",
              "  </thead>\n",
              "  <tbody>\n",
              "    <tr>\n",
              "      <th>0</th>\n",
              "      <td>24.0</td>\n",
              "      <td>32.31</td>\n",
              "      <td>0.538</td>\n",
              "      <td>6.575</td>\n",
              "      <td>65.2</td>\n",
              "      <td>4.35</td>\n",
              "      <td>3.81</td>\n",
              "      <td>4.18</td>\n",
              "      <td>4.01</td>\n",
              "      <td>24.7</td>\n",
              "      <td>4.98</td>\n",
              "      <td>11.1920</td>\n",
              "      <td>23</td>\n",
              "      <td>0.049347</td>\n",
              "      <td>0</td>\n",
              "    </tr>\n",
              "    <tr>\n",
              "      <th>1</th>\n",
              "      <td>21.6</td>\n",
              "      <td>37.07</td>\n",
              "      <td>0.469</td>\n",
              "      <td>6.421</td>\n",
              "      <td>78.9</td>\n",
              "      <td>4.99</td>\n",
              "      <td>4.70</td>\n",
              "      <td>5.12</td>\n",
              "      <td>5.06</td>\n",
              "      <td>22.2</td>\n",
              "      <td>9.14</td>\n",
              "      <td>12.1728</td>\n",
              "      <td>42</td>\n",
              "      <td>0.046146</td>\n",
              "      <td>1</td>\n",
              "    </tr>\n",
              "  </tbody>\n",
              "</table>\n",
              "</div>"
            ],
            "text/plain": [
              "   price  resid_area  air_qual  room_num  ...  n_hot_rooms  rainfall     parks  Sold\n",
              "0   24.0       32.31     0.538     6.575  ...      11.1920        23  0.049347     0\n",
              "1   21.6       37.07     0.469     6.421  ...      12.1728        42  0.046146     1\n",
              "\n",
              "[2 rows x 15 columns]"
            ]
          },
          "metadata": {
            "tags": []
          },
          "execution_count": 37
        }
      ]
    },
    {
      "cell_type": "code",
      "metadata": {
        "colab": {
          "base_uri": "https://localhost:8080/"
        },
        "id": "TwFwWXISumbA",
        "outputId": "fd797c66-3cb0-45ab-db01-96a2185d634a"
      },
      "source": [
        "X = data.iloc[: , : -1].values #selects all rows for all columns except the last column or selects all rows for the independent variables but not the dependent variable\n",
        "y = data.iloc[:, -1].values    #select all rows for the last column which is the dependent variable\n",
        "\n",
        "print(X)"
      ],
      "execution_count": 25,
      "outputs": [
        {
          "output_type": "stream",
          "text": [
            "[[2.4000000e+01 3.2310000e+01 5.3800000e-01 ... 1.1192000e+01\n",
            "  2.3000000e+01 4.9347306e-02]\n",
            " [2.1600000e+01 3.7070000e+01 4.6900000e-01 ... 1.2172800e+01\n",
            "  4.2000000e+01 4.6145633e-02]\n",
            " [3.4700000e+01 3.7070000e+01 4.6900000e-01 ... 1.0112000e+02\n",
            "  3.8000000e+01 4.5763966e-02]\n",
            " ...\n",
            " [2.3900000e+01 4.1930000e+01 5.7300000e-01 ... 1.2191200e+01\n",
            "  3.1000000e+01 5.7572286e-02]\n",
            " [2.2000000e+01 4.1930000e+01 5.7300000e-01 ... 1.5176000e+01\n",
            "  4.7000000e+01 6.0694299e-02]\n",
            " [1.9000000e+01 4.1930000e+01 5.7300000e-01 ... 1.0152000e+01\n",
            "  4.5000000e+01 6.0335899e-02]]\n"
          ],
          "name": "stdout"
        }
      ]
    },
    {
      "cell_type": "markdown",
      "metadata": {
        "id": "qWQ3RhayMf5c"
      },
      "source": [
        "The output of the above is in a matrix format. "
      ]
    },
    {
      "cell_type": "code",
      "metadata": {
        "colab": {
          "base_uri": "https://localhost:8080/"
        },
        "id": "w43O5vk0s75i",
        "outputId": "db633a98-e380-4734-8f54-21c942fae3e5"
      },
      "source": [
        "print(y)"
      ],
      "execution_count": 26,
      "outputs": [
        {
          "output_type": "stream",
          "text": [
            "[0 1 0 0 0 1 1 1 0 0 1 1 1 0 0 0 0 1 0 1 0 0 1 0 1 0 1 1 1 0 0 1 0 1 0 1 0\n",
            " 0 1 1 1 1 1 1 0 0 0 0 0 0 1 1 1 1 0 0 0 0 0 0 0 1 0 0 0 1 0 0 1 0 1 0 0 0\n",
            " 0 1 0 0 1 1 1 0 0 1 0 1 1 0 1 1 0 1 1 1 1 1 1 1 0 1 0 1 1 1 1 1 0 0 0 0 0\n",
            " 1 0 0 1 1 1 1 0 1 1 1 1 0 0 0 0 0 0 0 0 0 1 1 1 1 1 1 1 0 0 0 0 0 0 1 1 0\n",
            " 0 1 0 0 0 1 1 1 0 0 1 1 0 0 0 0 1 1 0 1 1 1 1 1 1 1 1 0 1 1 0 0 0 0 0 0 1\n",
            " 1 0 0 1 0 0 1 1 1 1 0 1 1 1 1 0 0 0 0 0 0 1 0 0 0 0 0 0 1 0 0 1 1 0 1 0 0\n",
            " 0 0 0 0 1 0 0 0 1 0 1 0 1 0 0 1 0 0 0 1 0 1 0 1 0 0 0 1 1 1 0 0 0 0 0 0 1\n",
            " 1 1 0 0 1 0 0 0 0 1 1 0 1 1 0 1 0 0 0 0 1 0 0 0 0 0 1 0 1 0 1 1 0 1 1 1 0\n",
            " 1 0 1 1 0 1 0 0 0 1 1 1 0 1 1 1 1 0 0 1 0 0 1 0 1 1 1 0 0 0 1 0 0 1 1 1 1\n",
            " 1 1 1 0 0 0 0 0 0 1 1 1 1 1 0 0 0 1 0 0 0 0 0 1 0 0 0 1 0 0 0 1 0 0 0 0 0\n",
            " 0 0 0 0 0 1 0 1 0 1 1 1 0 0 0 0 0 0 0 0 1 0 0 0 0 1 1 1 0 1 1 1 1 1 1 1 1\n",
            " 0 0 0 1 0 0 0 0 0 1 0 0 1 0 1 1 0 1 0 1 1 1 0 1 1 1 0 1 0 0 1 0 0 1 0 0 1\n",
            " 0 1 0 1 0 0 1 0 1 1 1 0 0 1 1 0 1 1 0 0 1 0 1 0 0 1 1 0 0 0 0 0 1 0 0 1 0\n",
            " 1 0 1 0 0 0 1 0 1 1 1 1 1 1 0 0 0 0 1 0 1 1 1 1 1]\n"
          ],
          "name": "stdout"
        }
      ]
    },
    {
      "cell_type": "markdown",
      "metadata": {
        "id": "P3PwSbM_MpEH"
      },
      "source": [
        "The out of the above is in a vector format.\n",
        "\n",
        "Prior to building a Logistic Regression model, data is split into training and test sets. The model is then built on the training set and tested on the test set. "
      ]
    },
    {
      "cell_type": "code",
      "metadata": {
        "id": "xpbOV_notXwt"
      },
      "source": [
        "from sklearn.model_selection import train_test_split   #to split our data into training and test sets, we need to import the test_train_split class from model_selection module of the sklearn library\n",
        "X_train, X_test, y_train, y_test = train_test_split(X,y, test_size = 0.2, random_state = 0) #splits the data by allocating 20% of the data in the test set and 80% in the training set\n"
      ],
      "execution_count": 28,
      "outputs": []
    },
    {
      "cell_type": "markdown",
      "metadata": {
        "id": "VTyup6BBNi8W"
      },
      "source": [
        "One way to ensure that the model performs well is to scale the features or columns of data the make up the independent variables. "
      ]
    },
    {
      "cell_type": "code",
      "metadata": {
        "id": "TcgdJszltn-1"
      },
      "source": [
        "#Scaling the features to improve model performance \n",
        "from sklearn.preprocessing import StandardScaler #imports the StandardScaler class\n",
        "s = StandardScaler() #creates an object of the StandardScaler class\n",
        "xTrain = s.fit_transform(X_train)\n",
        "xTest = s.transform(X_test)\n"
      ],
      "execution_count": 39,
      "outputs": []
    },
    {
      "cell_type": "markdown",
      "metadata": {
        "id": "aaBXtzotPNPH"
      },
      "source": [
        "The Logistic Regression model can now be built."
      ]
    },
    {
      "cell_type": "code",
      "metadata": {
        "colab": {
          "base_uri": "https://localhost:8080/"
        },
        "id": "il9TKdkntvei",
        "outputId": "e55d85d9-70f4-44b7-a11e-ecf1223fa57e"
      },
      "source": [
        "from sklearn.linear_model import LogisticRegression   #imports the LogisticRegression class from the linear_module of the sklearn library\n",
        "model = LogisticRegression()   #creates an object of the LogisticRegression class and names is model\n",
        "model.fit(X_train, y_train)   #uses the created object to fit a Logisitc Regression model on the training data\n"
      ],
      "execution_count": 30,
      "outputs": [
        {
          "output_type": "stream",
          "text": [
            "/usr/local/lib/python3.6/dist-packages/sklearn/linear_model/_logistic.py:940: ConvergenceWarning: lbfgs failed to converge (status=1):\n",
            "STOP: TOTAL NO. of ITERATIONS REACHED LIMIT.\n",
            "\n",
            "Increase the number of iterations (max_iter) or scale the data as shown in:\n",
            "    https://scikit-learn.org/stable/modules/preprocessing.html\n",
            "Please also refer to the documentation for alternative solver options:\n",
            "    https://scikit-learn.org/stable/modules/linear_model.html#logistic-regression\n",
            "  extra_warning_msg=_LOGISTIC_SOLVER_CONVERGENCE_MSG)\n"
          ],
          "name": "stderr"
        },
        {
          "output_type": "execute_result",
          "data": {
            "text/plain": [
              "LogisticRegression(C=1.0, class_weight=None, dual=False, fit_intercept=True,\n",
              "                   intercept_scaling=1, l1_ratio=None, max_iter=100,\n",
              "                   multi_class='auto', n_jobs=None, penalty='l2',\n",
              "                   random_state=None, solver='lbfgs', tol=0.0001, verbose=0,\n",
              "                   warm_start=False)"
            ]
          },
          "metadata": {
            "tags": []
          },
          "execution_count": 30
        }
      ]
    },
    {
      "cell_type": "code",
      "metadata": {
        "colab": {
          "base_uri": "https://localhost:8080/"
        },
        "id": "8NROkipQv3hn",
        "outputId": "92568418-81fb-4727-87e3-9d5815ab65e6"
      },
      "source": [
        "\n",
        "y_pred = model.predict(X_test)   #makes prediction on the out of sample data\n",
        "print(np.concatenate((y_pred.reshape(len(y_pred),1),y_test.reshape(len(y_test),1)),1))   #outputs the actual values against the predicted values for easy visual inspection"
      ],
      "execution_count": 40,
      "outputs": [
        {
          "output_type": "stream",
          "text": [
            "[[1 1]\n",
            " [0 0]\n",
            " [1 1]\n",
            " [1 1]\n",
            " [0 1]\n",
            " [1 0]\n",
            " [0 1]\n",
            " [1 0]\n",
            " [1 1]\n",
            " [1 1]\n",
            " [1 0]\n",
            " [0 0]\n",
            " [1 0]\n",
            " [0 0]\n",
            " [0 0]\n",
            " [1 1]\n",
            " [0 0]\n",
            " [1 1]\n",
            " [1 0]\n",
            " [1 0]\n",
            " [1 1]\n",
            " [1 1]\n",
            " [0 0]\n",
            " [1 0]\n",
            " [1 0]\n",
            " [0 0]\n",
            " [0 0]\n",
            " [1 1]\n",
            " [0 1]\n",
            " [0 0]\n",
            " [1 0]\n",
            " [0 0]\n",
            " [0 0]\n",
            " [0 1]\n",
            " [1 1]\n",
            " [0 0]\n",
            " [1 1]\n",
            " [0 0]\n",
            " [1 1]\n",
            " [0 0]\n",
            " [1 1]\n",
            " [0 0]\n",
            " [1 1]\n",
            " [0 0]\n",
            " [1 1]\n",
            " [1 1]\n",
            " [0 0]\n",
            " [1 1]\n",
            " [0 0]\n",
            " [0 0]\n",
            " [1 1]\n",
            " [0 0]\n",
            " [0 1]\n",
            " [0 0]\n",
            " [0 1]\n",
            " [0 1]\n",
            " [1 1]\n",
            " [0 1]\n",
            " [1 1]\n",
            " [0 0]\n",
            " [0 0]\n",
            " [1 0]\n",
            " [0 0]\n",
            " [1 0]\n",
            " [0 1]\n",
            " [1 1]\n",
            " [1 0]\n",
            " [1 1]\n",
            " [0 0]\n",
            " [0 0]\n",
            " [1 0]\n",
            " [1 1]\n",
            " [1 1]\n",
            " [0 1]\n",
            " [1 1]\n",
            " [0 0]\n",
            " [0 0]\n",
            " [0 1]\n",
            " [1 0]\n",
            " [0 0]\n",
            " [1 0]\n",
            " [1 1]\n",
            " [0 0]\n",
            " [0 0]\n",
            " [0 0]\n",
            " [1 1]\n",
            " [1 1]\n",
            " [1 1]\n",
            " [1 1]\n",
            " [0 0]\n",
            " [0 0]\n",
            " [1 0]\n",
            " [0 0]\n",
            " [1 0]\n",
            " [1 1]\n",
            " [0 0]\n",
            " [0 0]\n",
            " [0 0]\n",
            " [1 0]\n",
            " [0 0]\n",
            " [0 1]\n",
            " [1 0]]\n"
          ],
          "name": "stdout"
        }
      ]
    },
    {
      "cell_type": "code",
      "metadata": {
        "colab": {
          "base_uri": "https://localhost:8080/"
        },
        "id": "kS84pjjxxkDi",
        "outputId": "de276108-8483-4a5f-8be6-dbaa32f8cb88"
      },
      "source": [
        "from sklearn.metrics import confusion_matrix, accuracy_score   #imports the confusion matrix and accuracy_score\n",
        "confusion_matrix(y_test, y_pred)   #outputs the confusion matrix"
      ],
      "execution_count": 32,
      "outputs": [
        {
          "output_type": "execute_result",
          "data": {
            "text/plain": [
              "array([[39, 19],\n",
              "       [12, 32]])"
            ]
          },
          "metadata": {
            "tags": []
          },
          "execution_count": 32
        }
      ]
    },
    {
      "cell_type": "markdown",
      "metadata": {
        "id": "fDksg5H4RVwL"
      },
      "source": [
        "The value of 39 in the top left hand corner of the above matrix shows the number of times that our model correctly predicts 0 when the actual values are 0. The value of 32 in the bottom right hand corner of the above matrix shows the number of times our model correctly predicts 1 when the actual values are 1. \n",
        "\n",
        "We can calculate the accuracy of our model as follow."
      ]
    },
    {
      "cell_type": "code",
      "metadata": {
        "colab": {
          "base_uri": "https://localhost:8080/"
        },
        "id": "W3mF1CfUQ014",
        "outputId": "8cdfe5bd-524c-479d-8cd8-810dfdbc284a"
      },
      "source": [
        "(39+32)/(39+32+19+12)"
      ],
      "execution_count": 41,
      "outputs": [
        {
          "output_type": "execute_result",
          "data": {
            "text/plain": [
              "0.696078431372549"
            ]
          },
          "metadata": {
            "tags": []
          },
          "execution_count": 41
        }
      ]
    },
    {
      "cell_type": "markdown",
      "metadata": {
        "id": "lC9nx83ZRBNS"
      },
      "source": [
        "The above score shows that our model correctly predicts the binary values in about 70% of the times. Another way of performing the same calculation is shown below."
      ]
    },
    {
      "cell_type": "code",
      "metadata": {
        "colab": {
          "base_uri": "https://localhost:8080/"
        },
        "id": "7UXXALAgxqV5",
        "outputId": "4fa27149-ed25-4761-e895-0bb335e25ba7"
      },
      "source": [
        "accuracy_score(y_test, y_pred)   #prints the accuracy score"
      ],
      "execution_count": 33,
      "outputs": [
        {
          "output_type": "execute_result",
          "data": {
            "text/plain": [
              "0.696078431372549"
            ]
          },
          "metadata": {
            "tags": []
          },
          "execution_count": 33
        }
      ]
    },
    {
      "cell_type": "code",
      "metadata": {
        "id": "z21l0JtVxtQm"
      },
      "source": [
        ""
      ],
      "execution_count": null,
      "outputs": []
    }
  ]
}